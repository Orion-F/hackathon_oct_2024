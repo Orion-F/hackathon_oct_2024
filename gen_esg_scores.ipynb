{
 "cells": [
  {
   "cell_type": "code",
   "execution_count": 4,
   "metadata": {},
   "outputs": [
    {
     "name": "stdout",
     "output_type": "stream",
     "text": [
      "Compliance scores generated for Amazon and saved to data/handcrafted\\Amazon\\compliance.csv\n",
      "Compliance scores generated for Apple and saved to data/handcrafted\\Apple\\compliance.csv\n",
      "Compliance scores generated for BP and saved to data/handcrafted\\BP\\compliance.csv\n",
      "Compliance scores generated for Google and saved to data/handcrafted\\Google\\compliance.csv\n",
      "Compliance scores generated for H&M and saved to data/handcrafted\\H&M\\compliance.csv\n",
      "Compliance scores generated for Saudi Aramco and saved to data/handcrafted\\Saudi Aramco\\compliance.csv\n",
      "Compliance scores generated for Volkswagen and saved to data/handcrafted\\Volkswagen\\compliance.csv\n",
      "Compliance scores generated for Walmart and saved to data/handcrafted\\Walmart\\compliance.csv\n"
     ]
    }
   ],
   "source": [
    "import os\n",
    "import pandas as pd\n",
    "\n",
    "# Paths\n",
    "DATA_PATH = \"data/handcrafted\"\n",
    "CRITERIA_PATH = 'criteria.csv'\n",
    "\n",
    "# Load Criteria Data\n",
    "criteria_df = pd.read_csv(CRITERIA_PATH)\n",
    "\n",
    "# Create ESG Compliance Scores for Each Company\n",
    "def generate_compliance_scores():\n",
    "    # Loop through each company directory in the data path\n",
    "    for company_name in os.listdir(DATA_PATH):\n",
    "        company_dir = os.path.join(DATA_PATH, company_name)\n",
    "        if os.path.isdir(company_dir):\n",
    "            compliance_data = []\n",
    "            \n",
    "            # Iterate over each goal in the criteria dataframe\n",
    "            for _, row in criteria_df.iterrows():\n",
    "                goal = row['Goal']\n",
    "                # Randomly assign compliance levels (for demo purposes, could be more complex) ['HIGH', 'MEDIUM', 'LOW']\n",
    "                random_compliance = \"HIGH\"\n",
    "                compliance_data.append({'Goal': goal, 'Compliance': random_compliance})\n",
    "            \n",
    "            # Create a DataFrame for the compliance data\n",
    "            compliance_df = pd.DataFrame(compliance_data)\n",
    "            compliance_csv_path = os.path.join(company_dir, 'compliance.csv')\n",
    "            \n",
    "            # Save the compliance data to a CSV file in the company's folder\n",
    "            compliance_df.to_csv(compliance_csv_path, index=False)\n",
    "            print(f\"Compliance scores generated for {company_name} and saved to {compliance_csv_path}\")\n",
    "\n",
    "# Generate compliance scores for all companies\n",
    "generate_compliance_scores()\n"
   ]
  }
 ],
 "metadata": {
  "kernelspec": {
   "display_name": "Python 3",
   "language": "python",
   "name": "python3"
  },
  "language_info": {
   "codemirror_mode": {
    "name": "ipython",
    "version": 3
   },
   "file_extension": ".py",
   "mimetype": "text/x-python",
   "name": "python",
   "nbconvert_exporter": "python",
   "pygments_lexer": "ipython3",
   "version": "3.12.2"
  }
 },
 "nbformat": 4,
 "nbformat_minor": 2
}
